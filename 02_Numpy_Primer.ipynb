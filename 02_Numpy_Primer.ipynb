{
 "cells": [
  {
   "cell_type": "markdown",
   "metadata": {},
   "source": [
    "# Numpy Library Primer\n",
    "\n",
    "Numpy ist ein leistungsfähige Bibliothek in Python für mathematische Operation. Die Bibliothek ist bedeutend schneller als eine Umsetzung in reinem Python Code da sie intern auf C aufsetzt und Berechnungen systemnahe durchführt."
   ]
  },
  {
   "cell_type": "code",
   "execution_count": 1,
   "metadata": {
    "collapsed": true
   },
   "outputs": [],
   "source": [
    "# zuerst muss numpy importiert werden. Das Kürzel np hat sich dafür durchgesetzt\n",
    "import numpy as np"
   ]
  },
  {
   "cell_type": "code",
   "execution_count": 6,
   "metadata": {},
   "outputs": [
    {
     "name": "stdout",
     "output_type": "stream",
     "text": [
      "[0 1 2 3]\n",
      "[4 5 6 7]\n",
      "[[0 1 2 3]\n",
      " [4 5 6 7]]\n",
      "[[ 0.  0.  0.  0.]\n",
      " [ 0.  0.  0.  0.]]\n",
      "[[ 0.67448783  0.39026618  0.05808151  0.21443228  0.85040931]\n",
      " [ 0.53050004  0.01724018  0.06594078  0.61996109  0.90310194]]\n"
     ]
    }
   ],
   "source": [
    "a = np.array([0,1,2,3]) # a vector\n",
    "b = np.array([4,5,6,7]) # another vector\n",
    "c = np.array([[0,1,2,3], # a matrix\n",
    "             [4,5,6,7]])\n",
    "d = np.zeros((2,4))#(2x4 matrix of zeros)\n",
    "e = np.random.rand(2,5) # random 2x5 --> 2 und 5 sind die Dimensionen der Matrix (Zeilen, Spalten)\n",
    "# matrix with all numbers between 0 and 1\n",
    "print(a)\n",
    "print(b)\n",
    "print(c)\n",
    "print(d)\n",
    "print(e)"
   ]
  },
  {
   "cell_type": "markdown",
   "metadata": {},
   "source": [
    "Numpy ermöglicht das einfache Erstellen von Vektoren und Matrizen. Die gebräuchlichsten sind in obiger Zelle dargestellt. Numpy unterscheidet dabei nicht explizit zwischen Vektoren und Matrizen. Vektoren sind einfach Matrizen mit nur einer Dimension. Wie in der Mathematik behandelt auch numpy Matrizendimensionen in der Form: (rows, columns)"
   ]
  },
  {
   "cell_type": "code",
   "execution_count": 8,
   "metadata": {},
   "outputs": [
    {
     "name": "stdout",
     "output_type": "stream",
     "text": [
      "[ 0.   0.1  0.2  0.3]\n",
      "[[ 0.   0.2  0.4  0.6]\n",
      " [ 0.8  1.   1.2  1.4]]\n",
      "[ 0  5 12 21]\n",
      "[ 0.   1.   2.4  4.2]\n",
      "[[ 0  1  4  9]\n",
      " [ 0  5 12 21]]\n"
     ]
    },
    {
     "ename": "ValueError",
     "evalue": "operands could not be broadcast together with shapes (4,) (2,5) ",
     "output_type": "error",
     "traceback": [
      "\u001b[0;31m---------------------------------------------------------------------------\u001b[0m",
      "\u001b[0;31mValueError\u001b[0m                                Traceback (most recent call last)",
      "\u001b[0;32m<ipython-input-8-75dba9ee3158>\u001b[0m in \u001b[0;36m<module>\u001b[0;34m()\u001b[0m\n\u001b[1;32m      6\u001b[0m \u001b[0;31m# elementwise multiplication on every row of the matrix \"c\"\u001b[0m\u001b[0;34m\u001b[0m\u001b[0;34m\u001b[0m\u001b[0m\n\u001b[1;32m      7\u001b[0m \u001b[0;34m\u001b[0m\u001b[0m\n\u001b[0;32m----> 8\u001b[0;31m \u001b[0mprint\u001b[0m\u001b[0;34m(\u001b[0m \u001b[0ma\u001b[0m \u001b[0;34m*\u001b[0m \u001b[0me\u001b[0m \u001b[0;34m)\u001b[0m\u001b[0;31m# since a and e don't have the same number of columns, this\u001b[0m\u001b[0;34m\u001b[0m\u001b[0m\n\u001b[0m\u001b[1;32m      9\u001b[0m \u001b[0;31m# throws a \"Value Error: operands could not be broadcast together with..\"\u001b[0m\u001b[0;34m\u001b[0m\u001b[0;34m\u001b[0m\u001b[0m\n",
      "\u001b[0;31mValueError\u001b[0m: operands could not be broadcast together with shapes (4,) (2,5) "
     ]
    }
   ],
   "source": [
    "print( a * 0.1 )# multiplies every number in vector \"a\" by 0.1\n",
    "print( c * 0.2 )# multiplies every number in matrix \"c\" by 0.2\n",
    "print( a * b )# multiplies elementwise between a and b (columns paired up)\n",
    "print( a * b * 0.2 )# elementwise multiplication then multiplied by 0.2\n",
    "print( a * c )# since c has the same number of columns as a, this performs\n",
    "# elementwise multiplication on every row of the matrix \"c\"\n",
    "\n",
    "print( a * e )# since a and e don't have the same number of columns, this\n",
    "# throws a \"Value Error: operands could not be broadcast together with..\""
   ]
  },
  {
   "cell_type": "markdown",
   "metadata": {},
   "source": [
    "Numpy führt bei Matrix/Vektor Operationen immer jene Variante aus, die am besten geeignet erscheint.\n",
    "\n",
    "Beispiel: a ist ein Vektor, daher führt numpy eine Multiplikation Vektor x Skalar durch\n",
    "\n",
    "Dies kann jedoch auch häufig zu Missverständnissen führen und manche Fehlermeldungen erscheinen auf den ersten Blick nicht schlüssig. Meist hilft es in diesen Fällen, die Dimensionen der np.arrays zu betrachten"
   ]
  },
  {
   "cell_type": "code",
   "execution_count": 10,
   "metadata": {},
   "outputs": [
    {
     "name": "stdout",
     "output_type": "stream",
     "text": [
      "(1, 3)\n"
     ]
    }
   ],
   "source": [
    "a = np.zeros((1,4)) # vector of length 4\n",
    "b = np.zeros((4,3)) # matrix with 4 rows & 3 columns\n",
    "c = a.dot(b)\n",
    "print( c.shape )"
   ]
  },
  {
   "cell_type": "markdown",
   "metadata": {},
   "source": [
    ".T = transpose \"transponiert\" die Matrix, dreht also die Dimensionen um"
   ]
  },
  {
   "cell_type": "code",
   "execution_count": 11,
   "metadata": {},
   "outputs": [
    {
     "name": "stdout",
     "output_type": "stream",
     "text": [
      "c.shape:  (1, 3)\n",
      "c.T.shape:  (3, 1)\n"
     ]
    }
   ],
   "source": [
    "b = np.zeros((4,3))\n",
    "print( \"c.shape: \", c.shape)\n",
    "print( \"c.T.shape: \", c.T.shape)"
   ]
  }
 ],
 "metadata": {
  "kernelspec": {
   "display_name": "Python 3",
   "language": "python",
   "name": "python3"
  },
  "language_info": {
   "codemirror_mode": {
    "name": "ipython",
    "version": 3
   },
   "file_extension": ".py",
   "mimetype": "text/x-python",
   "name": "python",
   "nbconvert_exporter": "python",
   "pygments_lexer": "ipython3",
   "version": "3.6.3"
  }
 },
 "nbformat": 4,
 "nbformat_minor": 2
}
