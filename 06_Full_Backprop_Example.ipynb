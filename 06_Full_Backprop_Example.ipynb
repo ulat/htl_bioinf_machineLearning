{
 "cells": [
  {
   "cell_type": "markdown",
   "metadata": {},
   "source": [
    "# Implementation of Backpropagation Algo"
   ]
  },
  {
   "cell_type": "code",
   "execution_count": 1,
   "metadata": {
    "collapsed": true
   },
   "outputs": [],
   "source": [
    "import numpy as np\n",
    "np.random.seed(1)"
   ]
  },
  {
   "cell_type": "markdown",
   "metadata": {},
   "source": [
    "Define ReLu Activation Function and Derivative Function of ReLu Function for Backpropagation"
   ]
  },
  {
   "cell_type": "code",
   "execution_count": 2,
   "metadata": {
    "collapsed": true
   },
   "outputs": [],
   "source": [
    "# returns x if x > 0\n",
    "# return 0 otherwise\n",
    "def relu(x):\n",
    "    return (x > 0) * x \n",
    "\n",
    "# returns 1 for input > 0\n",
    "# return 0 otherwise\n",
    "def relu2deriv(output):\n",
    "    return output>0 "
   ]
  },
  {
   "cell_type": "markdown",
   "metadata": {},
   "source": [
    "Input data X and y"
   ]
  },
  {
   "cell_type": "code",
   "execution_count": 3,
   "metadata": {
    "collapsed": true
   },
   "outputs": [],
   "source": [
    "streetlights = np.array( [[ 1, 0, 1 ],\n",
    "                            [ 0, 1, 1 ],\n",
    "                            [ 0, 0, 1 ],\n",
    "                            [ 1, 1, 1 ] ] )\n",
    "walk_vs_stop = np.array([[ 1, 1, 0, 0]]).T"
   ]
  },
  {
   "cell_type": "markdown",
   "metadata": {},
   "source": [
    "Model Hyper-Parameters"
   ]
  },
  {
   "cell_type": "code",
   "execution_count": 4,
   "metadata": {
    "collapsed": true
   },
   "outputs": [],
   "source": [
    "alpha = 0.2\n",
    "hidden_size = 4"
   ]
  },
  {
   "cell_type": "markdown",
   "metadata": {},
   "source": [
    "Initialize weights with random numbers (later we will see that there are more efficient initialization methods.)"
   ]
  },
  {
   "cell_type": "code",
   "execution_count": 5,
   "metadata": {
    "collapsed": true
   },
   "outputs": [],
   "source": [
    "weights_0_1 = 2*np.random.random((3,hidden_size)) - 1\n",
    "weights_1_2 = 2*np.random.random((hidden_size,1)) - 1"
   ]
  },
  {
   "cell_type": "markdown",
   "metadata": {},
   "source": [
    "Running 60 iterations with backpropagating the delta values"
   ]
  },
  {
   "cell_type": "code",
   "execution_count": 8,
   "metadata": {},
   "outputs": [
    {
     "name": "stdout",
     "output_type": "stream",
     "text": [
      "Error:0.634231159844\n",
      "Error:0.358384076763\n",
      "Error:0.0830183113303\n",
      "Error:0.0064670549571\n",
      "Error:0.000329266900075\n",
      "Error:1.50556226651e-05\n"
     ]
    }
   ],
   "source": [
    "for iteration in range(60):\n",
    "    layer_2_error = 0\n",
    "    for i in range(len(streetlights)):\n",
    "        # input data\n",
    "        \n",
    "        # calculating activation on layer 1\n",
    "        \n",
    "        # calculating layer 2\n",
    "        \n",
    "        # calculating error on final layer\n",
    "        \n",
    "        # calculating delta on final layer\n",
    "        \n",
    "        # how much did each node on layer 1 contribute to the final layer?\n",
    "        # --> Calculate derivative of relu function\n",
    "        \n",
    "        # update weights for each layer\n",
    "        \n",
    "    if(iteration % 10 == 9):\n",
    "        print(\"Error:\" + str(layer_2_error))"
   ]
  }
 ],
 "metadata": {
  "kernelspec": {
   "display_name": "Python 3",
   "language": "python",
   "name": "python3"
  },
  "language_info": {
   "codemirror_mode": {
    "name": "ipython",
    "version": 3
   },
   "file_extension": ".py",
   "mimetype": "text/x-python",
   "name": "python",
   "nbconvert_exporter": "python",
   "pygments_lexer": "ipython3",
   "version": "3.5.4"
  }
 },
 "nbformat": 4,
 "nbformat_minor": 2
}
