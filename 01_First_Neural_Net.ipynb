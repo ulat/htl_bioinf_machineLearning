{
 "cells": [
  {
   "cell_type": "markdown",
   "metadata": {},
   "source": [
    "# Erstes neuronales Netz\n",
    "Die erste Aufgabe beinhaltet die Implementierung eines denkbar einfachen neuronalen Netzes mit nur einer einzigen Schicht (=layer) und einem einzigen Knoten.\n",
    "\n",
    "Schreibe die erforderlichen Funktionen, um den Knoten im neuronalen Netz mit den entsprechenden Inputs und Gewichten verwenden zu können.\n",
    "\n",
    "<img src=\"images/first_neural_01.png\" width=\"800\"/>"
   ]
  },
  {
   "cell_type": "markdown",
   "metadata": {},
   "source": [
    "## Code\n",
    "### Plain Python Code\n",
    "Hier ist der Code für die Implementierung zu ergänzen. Danach können die passenden Unittests fehlerfrei ausgeführt werden"
   ]
  },
  {
   "cell_type": "code",
   "execution_count": 1,
   "metadata": {
    "collapsed": true
   },
   "outputs": [],
   "source": [
    "def w_sum(a,b):\n",
    "    \"\"\" Returns the weighted sum of inputs and weights\"\"\"\n",
    "    # your code here\n",
    "    return output"
   ]
  },
  {
   "cell_type": "code",
   "execution_count": 2,
   "metadata": {
    "collapsed": true
   },
   "outputs": [],
   "source": [
    "weights = [0.1, 0.2, 0]"
   ]
  },
  {
   "cell_type": "code",
   "execution_count": 3,
   "metadata": {
    "collapsed": true
   },
   "outputs": [],
   "source": [
    "def neural_network(input, weights):\n",
    "    \"\"\" Implements a neural_network network running the inputs through the weight-vector \"\"\"\n",
    "    # your code here\n",
    "    return pred"
   ]
  },
  {
   "cell_type": "code",
   "execution_count": 4,
   "metadata": {},
   "outputs": [
    {
     "name": "stdout",
     "output_type": "stream",
     "text": [
      "0.9800000000000001\n"
     ]
    }
   ],
   "source": [
    "toes = [8.5, 9.5, 9.9, 9.0]\n",
    "wlrec = [0.65, 0.8, 0.8, 0.9]\n",
    "nfans = [1.2, 1.3, 0.5, 1.0]\n",
    "\n",
    "# input corresponds to every entry\n",
    "# for the first game of the season\n",
    "\n",
    "input = [toes[0],wlrec[0],nfans[0]]\n",
    "pred = neural_network(input,weights)\n",
    "print(pred)"
   ]
  },
  {
   "cell_type": "markdown",
   "metadata": {},
   "source": [
    "Wurde die Funktion korrekt implementiert, so sollte das Netz als Prognose 0.98 errechnen. Dies könne wir als Wahrscheinlichkeit für einen Sieg der Mannschaft interpretrieren."
   ]
  },
  {
   "cell_type": "markdown",
   "metadata": {},
   "source": [
    "### Verwendung der Numpy Library\n",
    "Die erste Implementierung ist ein recht aufwändiger Ansatz mittels Schleifen. Python stellt mit der numpy Bibliothek weitaus performantere Möglichkeiten für Rechenoperationen mit Matrizen zur Verfügung.\n",
    "\n",
    "  - https://docs.scipy.org/doc/\n",
    "  - https://cs231n.github.io/python-numpy-tutorial/#numpy"
   ]
  },
  {
   "cell_type": "code",
   "execution_count": 19,
   "metadata": {
    "collapsed": true
   },
   "outputs": [],
   "source": [
    "import numpy as np\n",
    "weights = np.array([0.1, 0.2, 0])\n",
    "\n",
    "def neural_network(input, weights):\n",
    "    # your code here\n",
    "    return pred"
   ]
  },
  {
   "cell_type": "markdown",
   "metadata": {},
   "source": [
    "Nun müssen die Eingabewerte allerdings als numpy Array definiert werden. Die Prognoseergebnisse müssen für gleiche Eingabewerte gleich sein."
   ]
  },
  {
   "cell_type": "code",
   "execution_count": 22,
   "metadata": {
    "collapsed": true
   },
   "outputs": [],
   "source": [
    "toes = np.array([8.5, 9.5, 9.9, 9.0])\n",
    "wlrec = np.array([0.65, 0.8, 0.8, 0.9])\n",
    "nfans = np.array([1.2, 1.3, 0.5, 1.0])"
   ]
  },
  {
   "cell_type": "code",
   "execution_count": 23,
   "metadata": {},
   "outputs": [
    {
     "name": "stdout",
     "output_type": "stream",
     "text": [
      "0.98\n"
     ]
    }
   ],
   "source": [
    "input = np.array([toes[0],wlrec[0],nfans[0]])\n",
    "pred = neural_network(input,weights)\n",
    "print(pred)"
   ]
  },
  {
   "cell_type": "markdown",
   "metadata": {},
   "source": [
    "# Deep Nets\n",
    "\n",
    "Nun soll ein neuronales Netz mit 3 Knoten und einer Zwischenschicht (1 \"hidden layer\") implementiert werden. Verwende für die Umsetzung die numpy library\n",
    "\n",
    "<table>\n",
    "<tr>\n",
    "<td>\n",
    "<img src=\"images/neural_net_one_hidden_1.png\" width=\"400\"/>\n",
    "</td>\n",
    "<td>\n",
    "<img src=\"images/neural_net_one_hidden_2.png\" width=\"400\"/>\n",
    "</td>\n",
    "</tr><tr>\n",
    "<td colspan=2>\n",
    "<img src=\"images/neural_net_one_hidden_3.png\" width=\"800\"/>\n",
    "</td>\n",
    "</tr>\n",
    "</table>\n"
   ]
  },
  {
   "cell_type": "code",
   "execution_count": 27,
   "metadata": {
    "collapsed": true
   },
   "outputs": [],
   "source": [
    "import numpy as np\n",
    "\n",
    "# toes %win #fans\n",
    "# input to hidden weights\n",
    "ih_wgt = np.array([\n",
    "    [0.1, 0.2, -0.1],#hid[0]\n",
    "    [-0.1,0.1, 0.9], #hid[1]\n",
    "    [0.1, 0.4, 0.1]]).T #hid[2]\n",
    "\n",
    "# hidden to prediction weights\n",
    "# hid[0] hid[1] hid[2]\n",
    "hp_wgt = np.array([\n",
    "[0.3, 1.1, -0.3],#hurt?\n",
    "[0.1, 0.2, 0.0], #win?\n",
    "[0.0, 1.3, 0.1] ]).T#sad?\n",
    "\n",
    "# weights matrix\n",
    "weights = [ih_wgt, hp_wgt]"
   ]
  },
  {
   "cell_type": "code",
   "execution_count": 28,
   "metadata": {
    "collapsed": true
   },
   "outputs": [],
   "source": [
    "def neural_network(input, weights):\n",
    "    # your code here\n",
    "    return pred"
   ]
  },
  {
   "cell_type": "code",
   "execution_count": 29,
   "metadata": {},
   "outputs": [
    {
     "name": "stdout",
     "output_type": "stream",
     "text": [
      "[ 0.2135  0.145   0.5065]\n"
     ]
    }
   ],
   "source": [
    "# Doing some prediction\n",
    "\n",
    "toes = np.array([8.5, 9.5, 9.9, 9.0])\n",
    "wlrec = np.array([0.65,0.8, 0.8, 0.9])\n",
    "nfans = np.array([1.2, 1.3, 0.5, 1.0])\n",
    "\n",
    "input = np.array([toes[0],wlrec[0],nfans[0]])\n",
    "pred = neural_network(input,weights)\n",
    "print(pred)"
   ]
  },
  {
   "cell_type": "markdown",
   "metadata": {},
   "source": [
    "## UnitTests"
   ]
  },
  {
   "cell_type": "markdown",
   "metadata": {},
   "source": [
    "### UnitTest for the basic weighted sum function\n",
    "Nach der Implementierung der w_sum Funktion muss der Testcase erfolgreich ablaufen."
   ]
  },
  {
   "cell_type": "code",
   "execution_count": 26,
   "metadata": {},
   "outputs": [
    {
     "name": "stderr",
     "output_type": "stream",
     "text": [
      ".\n",
      "----------------------------------------------------------------------\n",
      "Ran 1 test in 0.001s\n",
      "\n",
      "OK\n"
     ]
    },
    {
     "data": {
      "text/plain": [
       "<unittest.runner.TextTestResult run=1 errors=0 failures=0>"
      ]
     },
     "execution_count": 26,
     "metadata": {},
     "output_type": "execute_result"
    }
   ],
   "source": [
    "import unittest\n",
    "class First_Neural_Net_Tests(unittest.TestCase):\n",
    "    def test_w_sum(self):\n",
    "        self.assertEqual(w_sum([toes[0],wlrec[0],nfans[0]], weights), 0.9800000000000001)\n",
    "        self.assertEqual(w_sum([toes[1],wlrec[1],nfans[1]], weights), 1.11)\n",
    "        self.assertEqual(w_sum([toes[2],wlrec[2],nfans[2]], weights), 1.1500000000000001)\n",
    "import unittest, sys\n",
    "suite = unittest.TestLoader().loadTestsFromTestCase( First_Neural_Net_Tests )\n",
    "unittest.TextTestRunner(verbosity=1,stream=sys.stderr).run( suite )"
   ]
  },
  {
   "cell_type": "markdown",
   "metadata": {},
   "source": [
    "## Unittests für numpy Library"
   ]
  },
  {
   "cell_type": "code",
   "execution_count": 25,
   "metadata": {},
   "outputs": [
    {
     "name": "stderr",
     "output_type": "stream",
     "text": [
      ".\n",
      "----------------------------------------------------------------------\n",
      "Ran 1 test in 0.002s\n",
      "\n",
      "OK\n"
     ]
    },
    {
     "data": {
      "text/plain": [
       "<unittest.runner.TextTestResult run=1 errors=0 failures=0>"
      ]
     },
     "execution_count": 25,
     "metadata": {},
     "output_type": "execute_result"
    }
   ],
   "source": [
    "import unittest\n",
    "class Numpy_Neural_Net_Tests(unittest.TestCase):\n",
    "    def test_neural_network(self):\n",
    "        self.assertEqual(neural_network(np.array([toes[0],wlrec[0],nfans[0]]), weights), 0.9800000000000001)\n",
    "        self.assertEqual(neural_network(np.array([toes[1],wlrec[1],nfans[1]]), weights), 1.11)\n",
    "        self.assertEqual(neural_network(np.array([toes[2],wlrec[2],nfans[2]]), weights), 1.1500000000000001)\n",
    "import unittest, sys\n",
    "suite = unittest.TestLoader().loadTestsFromTestCase( Numpy_Neural_Net_Tests )\n",
    "unittest.TextTestRunner(verbosity=1,stream=sys.stderr).run( suite )"
   ]
  }
 ],
 "metadata": {
  "kernelspec": {
   "display_name": "Python 3",
   "language": "python",
   "name": "python3"
  },
  "language_info": {
   "codemirror_mode": {
    "name": "ipython",
    "version": 3
   },
   "file_extension": ".py",
   "mimetype": "text/x-python",
   "name": "python",
   "nbconvert_exporter": "python",
   "pygments_lexer": "ipython3",
   "version": "3.6.3"
  }
 },
 "nbformat": 4,
 "nbformat_minor": 2
}
