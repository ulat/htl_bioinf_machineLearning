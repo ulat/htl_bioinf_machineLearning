{
 "cells": [
  {
   "cell_type": "markdown",
   "metadata": {},
   "source": [
    "# Gradient Descent Algorithmus"
   ]
  },
  {
   "cell_type": "code",
   "execution_count": 2,
   "metadata": {},
   "outputs": [
    {
     "name": "stdout",
     "output_type": "stream",
     "text": [
      "Error:0.6400000000000001 Prediction:0.0\n",
      "Error:0.3600000000000001 Prediction:0.2\n",
      "Error:0.2025 Prediction:0.35000000000000003\n",
      "Error:0.11390625000000001 Prediction:0.4625\n"
     ]
    }
   ],
   "source": [
    "weight, goal_pred, input = (0.0, 0.8, 0.5)\n",
    "\n",
    "for iteration in range(4):\n",
    "    pred = input * weight\n",
    "    error = (pred - goal_pred) ** 2\n",
    "    delta = pred - goal_pred\n",
    "    weight_delta = delta * input\n",
    "    weight = weight - weight_delta\n",
    "    print(\"Error:\" + str(error) + \" Prediction:\" + str(pred))"
   ]
  },
  {
   "cell_type": "markdown",
   "metadata": {},
   "source": [
    "Wir verwenden die Prognose unseres Netzes nun direkt in der Berechnung des Fehlers: \n",
    "```\n",
    "error = (pred - goal_pred) ** 2\n",
    "```\n",
    "Fügen wir die ursprüngliche Berechnung in diesem Term ein, so erhalten wir:\n",
    "```\n",
    "error = ((input * weight) - goal_pred) ** 2\n",
    "```\n",
    "Dies verändert das Ergebnis der Berechnung nicht. Wir verbinden so einfach zwei Codezeilen und berechnen den Fehler direkt.\n",
    "\n",
    "Fügen wir nun die Werte für Input und goal_pred ein, die wir zu Beginn festgelegt haben, erhalten wir folgenden Ausdruck:\n",
    "```\n",
    "error = ((0.5 * weight) - 0.8) ** 2\n",
    "```\n",
    "Nun ist ersichtlich, dass wir für jedes Wertpaar aus input und goal_pred eine exakte Gleichung zwischen Fehler und Gewicht anschreiben können."
   ]
  },
  {
   "cell_type": "markdown",
   "metadata": {},
   "source": [
    "<table>\n",
    "<tr>\n",
    "<td>\n",
    "Wir können nun die Änderung des Prognosefehlers abhänngig von einer Änderung der Gewichte berechnen. Der Funktionsgraph zeigt alle Wert von error für alle Werte von weight. Da es sich um eine exponentielle Funktion handelt, ist der Funktionsgraph \"schüsselförmig\". Der schwarze Punkt markiert die aktuelle Position, entsprechend der aktuellen Werte für ```weight``` und ```error```. Im Minimum der Funktion (strichlierter Kreis) hätten wir einen Wert von 0 für ```error```.\n",
    "\n",
    "Wir können also feststellen, dass die Steigung der Funktion in die Richtung des Optimums zeigt - egal aus welcher Richtung wir uns nähern.\n",
    "</td>\n",
    "<td width=\"400\">\n",
    "<img src=\"images/gradient_descent_01.png\" width=400/>\n",
    "</td>\n",
    "</tr>\n",
    "</table>"
   ]
  },
  {
   "cell_type": "markdown",
   "metadata": {},
   "source": [
    "## Berechnung der Upates für die Gewichte über mehrere Iterationen hinweg"
   ]
  },
  {
   "cell_type": "code",
   "execution_count": 7,
   "metadata": {},
   "outputs": [
    {
     "name": "stdout",
     "output_type": "stream",
     "text": [
      "-----\n",
      "Weight:0.0\n",
      "Error:0.6400000000000001 Prediction:0.0\n",
      "Delta:-0.8 Weight Delta:-0.8800000000000001\n",
      "-----\n",
      "Weight:0.8800000000000001\n",
      "Error:0.02822400000000005 Prediction:0.9680000000000002\n",
      "Delta:0.16800000000000015 Weight Delta:0.1848000000000002\n",
      "-----\n",
      "Weight:0.6951999999999999\n",
      "Error:0.0012446784000000064 Prediction:0.76472\n",
      "Delta:-0.03528000000000009 Weight Delta:-0.0388080000000001\n",
      "-----\n",
      "Weight:0.734008\n",
      "Error:5.4890317439999896e-05 Prediction:0.8074088\n",
      "Delta:0.007408799999999993 Weight Delta:0.008149679999999992\n"
     ]
    }
   ],
   "source": [
    "weight, goal_pred, input = (0.0, 0.8, 1.1)\n",
    "for iteration in range(4):\n",
    "    print(\"-----\\nWeight:\" + str(weight))\n",
    "    pred = \n",
    "    error = \n",
    "    delta = \n",
    "    weight_delta = \n",
    "    weight = \n",
    "    print(\"Error:\" + str(error) + \" Prediction:\" + str(pred))\n",
    "    print(\"Delta:\" + str(delta) + \" Weight Delta:\" + str(weight_delta))"
   ]
  },
  {
   "cell_type": "markdown",
   "metadata": {},
   "source": [
    "## Breaking Gradient Descent\n",
    "In manchen Fällen schießt unser Netz über das Ziel hinaus:"
   ]
  },
  {
   "cell_type": "code",
   "execution_count": 9,
   "metadata": {},
   "outputs": [
    {
     "name": "stdout",
     "output_type": "stream",
     "text": [
      "Error:5.733418687992733 Prediction:3.1944558229361286\n",
      "Error:51.600768191934606 Prediction:-6.383367468808387\n",
      "Error:464.40691372741134 Prediction:22.350102406425158\n",
      "Error:4179.662223546703 Prediction:-63.85030721927547\n",
      "Error:37616.960011920324 Prediction:194.75092165782644\n",
      "Error:338552.64010728284 Prediction:-581.0527649734793\n",
      "Error:3046973.7609655457 Prediction:1746.3582949204376\n",
      "Error:27422763.848689917 Prediction:-5235.874884761313\n",
      "Error:246804874.63820928 Prediction:15710.82465428394\n",
      "Error:2221243871.7438836 Prediction:-47129.273962851825\n",
      "Error:19991194845.69496 Prediction:141391.0218885555\n",
      "Error:179920753611.25464 Prediction:-424169.8656656665\n",
      "Error:1619286782501.2917 Prediction:1272512.7969969995\n",
      "Error:14573581042511.623 Prediction:-3817535.1909909984\n",
      "Error:131162229382604.56 Prediction:11452608.772972994\n",
      "Error:1180460064443440.8 Prediction:-34357823.11891898\n",
      "Error:1.0624140579990966e+16 Prediction:103073472.55675691\n",
      "Error:9.56172652199187e+16 Prediction:-309220414.47027075\n",
      "Error:8.605553869792685e+17 Prediction:927661246.6108123\n",
      "Error:7.744998482813417e+18 Prediction:-2782983736.632437\n"
     ]
    }
   ],
   "source": [
    "goal_pred = 0.8\n",
    "input = 2\n",
    "for iteration in range(20):\n",
    "    pred = \n",
    "    error = \n",
    "    delta = \n",
    "    weight_delta = \n",
    "    weight = \n",
    "    print(\"Error:\" + str(error) + \" Prediction:\" + str(pred))"
   ]
  },
  {
   "cell_type": "markdown",
   "metadata": {},
   "source": [
    "## Gradient Descent mit Alpha"
   ]
  },
  {
   "cell_type": "code",
   "execution_count": 11,
   "metadata": {},
   "outputs": [
    {
     "name": "stdout",
     "output_type": "stream",
     "text": [
      "Error:0.03999999999999998 Prediction:1.0\n",
      "Error:0.0144 Prediction:0.92\n",
      "Error:0.005183999999999993 Prediction:0.872\n",
      "Error:0.0018662400000000014 Prediction:0.8432000000000001\n",
      "Error:0.0006718464000000028 Prediction:0.8259200000000001\n",
      "Error:0.00024186470400000033 Prediction:0.815552\n",
      "Error:8.70712934399997e-05 Prediction:0.8093312\n",
      "Error:3.134566563839939e-05 Prediction:0.80559872\n",
      "Error:1.1284439629823931e-05 Prediction:0.803359232\n",
      "Error:4.062398266736526e-06 Prediction:0.8020155392\n",
      "Error:1.4624633760252567e-06 Prediction:0.8012093235200001\n",
      "Error:5.264868153690924e-07 Prediction:0.8007255941120001\n",
      "Error:1.8953525353291194e-07 Prediction:0.8004353564672001\n",
      "Error:6.82326912718715e-08 Prediction:0.8002612138803201\n",
      "Error:2.456376885786678e-08 Prediction:0.8001567283281921\n",
      "Error:8.842956788836216e-09 Prediction:0.8000940369969153\n",
      "Error:3.1834644439835434e-09 Prediction:0.8000564221981492\n",
      "Error:1.1460471998340758e-09 Prediction:0.8000338533188895\n",
      "Error:4.125769919393652e-10 Prediction:0.8000203119913337\n",
      "Error:1.485277170987127e-10 Prediction:0.8000121871948003\n"
     ]
    }
   ],
   "source": [
    "weight = 0.5\n",
    "goal_pred = 0.8\n",
    "input = 2\n",
    "alpha = 0.1\n",
    "for iteration in range(20):\n",
    "    pred = \n",
    "    error = \n",
    "    derivative = \n",
    "    weight = \n",
    "    print(\"Error:\" + str(error) + \" Prediction:\" + str(pred))"
   ]
  },
  {
   "cell_type": "markdown",
   "metadata": {},
   "source": [
    "## Gradient Descent über mehrere Iterationen"
   ]
  },
  {
   "cell_type": "code",
   "execution_count": 6,
   "metadata": {
    "collapsed": true
   },
   "outputs": [],
   "source": [
    "def neural_network(input, weights):\n",
    "    out = 0\n",
    "    for i in range(len(input)):\n",
    "        out += \n",
    "    return out"
   ]
  },
  {
   "cell_type": "code",
   "execution_count": 7,
   "metadata": {
    "collapsed": true
   },
   "outputs": [],
   "source": [
    "def ele_mul(scalar, vector):\n",
    "    out = [0,0,0]\n",
    "    for i in range(len(out)):\n",
    "        out[i] = \n",
    "    return out"
   ]
  },
  {
   "cell_type": "code",
   "execution_count": 8,
   "metadata": {},
   "outputs": [
    {
     "name": "stdout",
     "output_type": "stream",
     "text": [
      "Iteration:1\n",
      "Pred:0.8600000000000001\n",
      "Error:0.01959999999999997\n",
      "Delta:-0.1399999999999999\n",
      "Weights:[0.1, 0.2, -0.1]\n",
      "Weight_Deltas:\n",
      "[-1.189999999999999, -0.09099999999999994, -0.16799999999999987]\n",
      "\n",
      "Iteration:2\n",
      "Pred:0.9637574999999999\n",
      "Error:0.0013135188062500048\n",
      "Delta:-0.036242500000000066\n",
      "Weights:[0.1119, 0.20091, -0.09832]\n",
      "Weight_Deltas:\n",
      "[-0.30806125000000056, -0.023557625000000044, -0.04349100000000008]\n",
      "\n",
      "Iteration:3\n",
      "Pred:0.9906177228125002\n",
      "Error:8.802712522307997e-05\n",
      "Delta:-0.009382277187499843\n",
      "Weights:[0.11498061250000001, 0.20114557625, -0.09788509000000001]\n",
      "Weight_Deltas:\n",
      "[-0.07974935609374867, -0.006098480171874899, -0.011258732624999811]\n",
      "\n"
     ]
    }
   ],
   "source": [
    "toes = [8.5, 9.5, 9.9, 9.0]\n",
    "wlrec = [0.65, 0.8, 0.8, 0.9]\n",
    "nfans = [1.2, 1.3, 0.5, 1.0]\n",
    "win_or_lose_binary = [1, 1, 0, 1]\n",
    "true = win_or_lose_binary[0]\n",
    "alpha = 0.01\n",
    "weights = [0.1, 0.2, -.1]\n",
    "input = [toes[0],wlrec[0],nfans[0]]\n",
    "\n",
    "for iter in range(3):\n",
    "    pred = neural_network(input,weights)\n",
    "    error = \n",
    "    delta = \n",
    "    weight_deltas = \n",
    "    print(\"Iteration:\" + str(iter+1))\n",
    "    print(\"Pred:\" + str(pred))\n",
    "    print(\"Error:\" + str(error))\n",
    "    print(\"Delta:\" + str(delta))\n",
    "    print(\"Weights:\" + str(weights))\n",
    "    print(\"Weight_Deltas:\")\n",
    "    print(str(weight_deltas))\n",
    "    print()\n",
    "    for i in range(len(weights)):\n",
    "        "
   ]
  },
  {
   "cell_type": "markdown",
   "metadata": {},
   "source": [
    "# Gradient Descent mit mehreren Outputs"
   ]
  },
  {
   "cell_type": "code",
   "execution_count": 23,
   "metadata": {
    "collapsed": true
   },
   "outputs": [],
   "source": [
    "def ele_mul(number,vector):\n",
    "    output = [0,0,0]\n",
    "    assert(len(output) == len(vector))\n",
    "    for i in range(len(vector)):\n",
    "        output[i] = number * vector[i]\n",
    "    return output"
   ]
  },
  {
   "cell_type": "code",
   "execution_count": 24,
   "metadata": {
    "collapsed": true
   },
   "outputs": [],
   "source": [
    "# instead of predicting just whether the team won or lost,\n",
    "# now we're also predicting whether they are happy/sad AND the percentage\n",
    "# of the team that is hurt. We are making this prediction using only\n",
    "# the current win/loss record\n",
    "\n",
    "weights = [0.3, 0.2, 0.9]\n",
    "\n",
    "def neural_network(input, weights):\n",
    "    pred = ele_mul(input,weights)\n",
    "    return pred"
   ]
  },
  {
   "cell_type": "code",
   "execution_count": 25,
   "metadata": {
    "collapsed": true
   },
   "outputs": [],
   "source": [
    "wlrec = [0.9, 1.0, 1.0, 0.9]\n",
    "hurt = [0.1, 0.0, 0.0, 0.1]\n",
    "win = [ 1, 1, 0, 1]\n",
    "sad = [0.1, 0.0, 0.1, 0.2]\n",
    "input = wlrec[0]\n",
    "true = [hurt[0], win[0], sad[0]]\n",
    "pred = neural_network(input,weights)\n",
    "error = [0, 0, 0]\n",
    "delta = [0, 0, 0]\n",
    "\n",
    "for i in range(len(true)):\n",
    "    error[i] = \n",
    "    delta = \n",
    "    weight_deltas = \n",
    "    \n",
    "alpha = 0.1\n",
    "for i in range(len(weights)):\n",
    "    weights[i] -= ("
   ]
  },
  {
   "cell_type": "markdown",
   "metadata": {},
   "source": [
    "# Gradient Descent mit mehreren Inputs auf mehrere Outputs "
   ]
  },
  {
   "cell_type": "markdown",
   "metadata": {},
   "source": [
    "Helper Functions"
   ]
  },
  {
   "cell_type": "code",
   "execution_count": 34,
   "metadata": {
    "collapsed": true
   },
   "outputs": [],
   "source": [
    "import numpy as np"
   ]
  },
  {
   "cell_type": "code",
   "execution_count": 39,
   "metadata": {
    "collapsed": true
   },
   "outputs": [],
   "source": [
    "def w_sum(a,b):\n",
    "    assert(len(a) == len(b))\n",
    "    output = 0\n",
    "    for i in range(len(a)):\n",
    "        output += \n",
    "    return output"
   ]
  },
  {
   "cell_type": "code",
   "execution_count": 35,
   "metadata": {
    "collapsed": true
   },
   "outputs": [],
   "source": [
    "def vect_mat_mul(vect, matrix):\n",
    "    assert(len(vect) == len(matrix))\n",
    "    output = np.zeros(len(vect))\n",
    "    for i in range(len(vect)):\n",
    "        output[i] = \n",
    "    return output"
   ]
  },
  {
   "cell_type": "code",
   "execution_count": 63,
   "metadata": {
    "collapsed": true
   },
   "outputs": [],
   "source": [
    "def outer_prod(vec_a, vec_b):    \n",
    "    out = np.zeros(shape=(len(vec_a), len(vec_b)))\n",
    "    for i in range(len(vec_a)):\n",
    "        for j in range(len(vec_b)):\n",
    "            out[i][j] = \n",
    "    return out"
   ]
  },
  {
   "cell_type": "code",
   "execution_count": 30,
   "metadata": {
    "collapsed": true
   },
   "outputs": [],
   "source": [
    "weights = [ [0.1, 0.1, -0.3],  #hurt?\n",
    "            [0.1, 0.2, 0.0 ],  #win?\n",
    "            [0.0, 1.3, 0.1 ] ] #sad?\n",
    "\n",
    "def neural_network(input, weights):\n",
    "    pred = \n",
    "    return pred"
   ]
  },
  {
   "cell_type": "code",
   "execution_count": 64,
   "metadata": {},
   "outputs": [
    {
     "name": "stdout",
     "output_type": "stream",
     "text": [
      "[[-0.58241069 -0.51028729  6.72427731]\n",
      " [-0.04453729 -0.03902197  0.51420944]\n",
      " [-0.08222269 -0.07204056  0.94930974]]\n"
     ]
    }
   ],
   "source": [
    "toes = [8.5, 9.5, 9.9, 9.0]\n",
    "wlrec = [0.65,0.8, 0.8, 0.9]\n",
    "nfans = [1.2, 1.3, 0.5, 1.0]\n",
    "\n",
    "hurt = [0.1, 0.0, 0.0, 0.1]\n",
    "win = [ 1, 1, 0, 1]\n",
    "sad = [0.1, 0.0, 0.1, 0.2]\n",
    "\n",
    "alpha = 0.01\n",
    "\n",
    "input = [toes[0], wlrec[0], nfans[0]]\n",
    "true = [hurt[0], win[0], sad[0]]\n",
    "\n",
    "pred = neural_network(input, weights)\n",
    "\n",
    "error = [0, 0, 0]\n",
    "delta = [0, 0, 0]\n",
    "\n",
    "for i in range(len(true)):\n",
    "   \n",
    "\n",
    "weight_deltas = \n",
    "\n",
    "for i in range(len(weights)):\n",
    "    for j in range(len(weights[0])):\n",
    "        \n",
    "        \n",
    "print(weight_deltas)"
   ]
  }
 ],
 "metadata": {
  "kernelspec": {
   "display_name": "Python 3",
   "language": "python",
   "name": "python3"
  },
  "language_info": {
   "codemirror_mode": {
    "name": "ipython",
    "version": 3
   },
   "file_extension": ".py",
   "mimetype": "text/x-python",
   "name": "python",
   "nbconvert_exporter": "python",
   "pygments_lexer": "ipython3",
   "version": "3.6.3"
  }
 },
 "nbformat": 4,
 "nbformat_minor": 2
}
