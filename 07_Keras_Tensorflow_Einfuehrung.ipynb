{
  "nbformat": 4,
  "nbformat_minor": 0,
  "metadata": {
    "colab": {
      "name": "07_Keras_Tensorflow_Einfuehrung.ipynb",
      "version": "0.3.2",
      "provenance": [],
      "include_colab_link": true
    },
    "kernelspec": {
      "name": "python3",
      "display_name": "Python 3"
    }
  },
  "cells": [
    {
      "cell_type": "markdown",
      "metadata": {
        "id": "view-in-github",
        "colab_type": "text"
      },
      "source": [
        "<a href=\"https://colab.research.google.com/github/ulat/htl_bioinf_machineLearning/blob/master/07_Keras_Tensorflow_Einfuehrung.ipynb\" target=\"_parent\"><img src=\"https://colab.research.google.com/assets/colab-badge.svg\" alt=\"Open In Colab\"/></a>"
      ]
    },
    {
      "metadata": {
        "id": "JtKA2qB4O4cu",
        "colab_type": "text"
      },
      "cell_type": "markdown",
      "source": [
        "# Einführung in Tensorflow mit Keras UI\n",
        "## Predicting Housing Prices\n",
        "Vervollständige in dieser Übung das Notebook, welches die Preise von Immobilien prognostizieren kann.\n",
        "\n",
        "Angenommen, Häuser werden hauptsächlich aufgrund der Anzahl der Schlafzimmer bewertet, dann verwende folgende einfache Bewertungsformel:\n",
        "\n",
        "__Haus-Basispreise 50k + Anz.SR * 50k__\n",
        "\n",
        "__Tip:__ _Das Netz wird besser skalieren, wenn du das Netz so trainierst, dass ein Ausgabe des Netzes von 4 einen Hauspreis von 400k bedeutet._"
      ]
    },
    {
      "metadata": {
        "id": "E_HjVugbPN5W",
        "colab_type": "code",
        "colab": {}
      },
      "cell_type": "code",
      "source": [
        "import tensorflow as tf\n",
        "import numpy as np\n",
        "from tensorflow import keras"
      ],
      "execution_count": 0,
      "outputs": []
    },
    {
      "metadata": {
        "id": "K721FhvkP4CS",
        "colab_type": "code",
        "colab": {}
      },
      "cell_type": "code",
      "source": [
        "model = # Your Code Here#\n",
        "model.compile(# Your Code Here#)"
      ],
      "execution_count": 0,
      "outputs": []
    },
    {
      "metadata": {
        "id": "f9tuLa45P6ek",
        "colab_type": "code",
        "colab": {}
      },
      "cell_type": "code",
      "source": [
        "xs = # Your Code Here#\n",
        "ys = # Your Code Here#"
      ],
      "execution_count": 0,
      "outputs": []
    },
    {
      "metadata": {
        "id": "UXovCFXBP9nl",
        "colab_type": "code",
        "colab": {}
      },
      "cell_type": "code",
      "source": [
        "model.fit(# Your Code here#)\n",
        "print(model.predict([7.0]))"
      ],
      "execution_count": 0,
      "outputs": []
    }
  ]
}